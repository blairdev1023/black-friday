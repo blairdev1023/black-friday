{
 "cells": [
  {
   "cell_type": "code",
   "execution_count": 143,
   "metadata": {},
   "outputs": [],
   "source": [
    "# general\n",
    "import pandas as pd\n",
    "import numpy as np\n",
    "from time import time\n",
    "import pickle \n",
    "\n",
    "# modeling\n",
    "from sklearn.preprocessing import StandardScaler\n",
    "from sklearn.linear_model import BayesianRidge, LinearRegression, Ridge, Lasso, ElasticNet\n",
    "from sklearn.ensemble import RandomForestRegressor\n",
    "from sklearn.model_selection import cross_validate, GridSearchCV\n",
    "from sklearn.metrics import mean_squared_error\n",
    "\n",
    "# plotting\n",
    "import seaborn as sns\n",
    "import matplotlib.pyplot as plt\n",
    "sns.set()\n",
    "%matplotlib inline\n",
    "\n",
    "# pretty\n",
    "from pprint import PrettyPrinter\n",
    "pp = PrettyPrinter()\n",
    "\n",
    "# mute warnings\n",
    "import warnings\n",
    "warnings.filterwarnings('ignore')"
   ]
  },
  {
   "cell_type": "markdown",
   "metadata": {},
   "source": [
    "## Load"
   ]
  },
  {
   "cell_type": "code",
   "execution_count": 25,
   "metadata": {},
   "outputs": [],
   "source": [
    "df_train = pd.read_csv('../data/train_standard.csv', parse_dates=['date'], dtype={'fullVisitorId': 'str'})"
   ]
  },
  {
   "cell_type": "code",
   "execution_count": 26,
   "metadata": {},
   "outputs": [
    {
     "data": {
      "text/html": [
       "<div>\n",
       "<style scoped>\n",
       "    .dataframe tbody tr th:only-of-type {\n",
       "        vertical-align: middle;\n",
       "    }\n",
       "\n",
       "    .dataframe tbody tr th {\n",
       "        vertical-align: top;\n",
       "    }\n",
       "\n",
       "    .dataframe thead th {\n",
       "        text-align: right;\n",
       "    }\n",
       "</style>\n",
       "<table border=\"1\" class=\"dataframe\">\n",
       "  <thead>\n",
       "    <tr style=\"text-align: right;\">\n",
       "      <th></th>\n",
       "      <th>date</th>\n",
       "      <th>fullVisitorId</th>\n",
       "      <th>visitNumber</th>\n",
       "      <th>visitStartTime</th>\n",
       "      <th>device.browser</th>\n",
       "      <th>device.isMobile</th>\n",
       "      <th>geoNetwork.continent</th>\n",
       "      <th>totals.bounces</th>\n",
       "      <th>totals.hits</th>\n",
       "      <th>totals.pageviews</th>\n",
       "      <th>totals.transactionRevenue</th>\n",
       "      <th>trafficSource.isTrueDirect</th>\n",
       "      <th>referred_channelGrouping</th>\n",
       "      <th>social_channelGrouping</th>\n",
       "      <th>device.OS_chrome</th>\n",
       "      <th>classifier_predict_probas</th>\n",
       "    </tr>\n",
       "  </thead>\n",
       "  <tbody>\n",
       "    <tr>\n",
       "      <th>0</th>\n",
       "      <td>2016-09-02</td>\n",
       "      <td>1131660440785968503</td>\n",
       "      <td>1</td>\n",
       "      <td>1</td>\n",
       "      <td>1</td>\n",
       "      <td>0</td>\n",
       "      <td>0</td>\n",
       "      <td>1.0</td>\n",
       "      <td>1</td>\n",
       "      <td>1.0</td>\n",
       "      <td>0.0</td>\n",
       "      <td>0</td>\n",
       "      <td>0</td>\n",
       "      <td>0</td>\n",
       "      <td>0</td>\n",
       "      <td>0.0</td>\n",
       "    </tr>\n",
       "    <tr>\n",
       "      <th>1</th>\n",
       "      <td>2016-09-02</td>\n",
       "      <td>377306020877927890</td>\n",
       "      <td>1</td>\n",
       "      <td>0</td>\n",
       "      <td>0</td>\n",
       "      <td>0</td>\n",
       "      <td>0</td>\n",
       "      <td>1.0</td>\n",
       "      <td>1</td>\n",
       "      <td>1.0</td>\n",
       "      <td>0.0</td>\n",
       "      <td>0</td>\n",
       "      <td>0</td>\n",
       "      <td>0</td>\n",
       "      <td>0</td>\n",
       "      <td>0.0</td>\n",
       "    </tr>\n",
       "    <tr>\n",
       "      <th>2</th>\n",
       "      <td>2016-09-02</td>\n",
       "      <td>3895546263509774583</td>\n",
       "      <td>1</td>\n",
       "      <td>0</td>\n",
       "      <td>1</td>\n",
       "      <td>0</td>\n",
       "      <td>0</td>\n",
       "      <td>1.0</td>\n",
       "      <td>1</td>\n",
       "      <td>1.0</td>\n",
       "      <td>0.0</td>\n",
       "      <td>0</td>\n",
       "      <td>0</td>\n",
       "      <td>0</td>\n",
       "      <td>0</td>\n",
       "      <td>0.0</td>\n",
       "    </tr>\n",
       "    <tr>\n",
       "      <th>3</th>\n",
       "      <td>2016-09-02</td>\n",
       "      <td>4763447161404445595</td>\n",
       "      <td>1</td>\n",
       "      <td>0</td>\n",
       "      <td>0</td>\n",
       "      <td>0</td>\n",
       "      <td>0</td>\n",
       "      <td>1.0</td>\n",
       "      <td>1</td>\n",
       "      <td>1.0</td>\n",
       "      <td>0.0</td>\n",
       "      <td>0</td>\n",
       "      <td>0</td>\n",
       "      <td>0</td>\n",
       "      <td>0</td>\n",
       "      <td>0.0</td>\n",
       "    </tr>\n",
       "    <tr>\n",
       "      <th>4</th>\n",
       "      <td>2016-09-02</td>\n",
       "      <td>27294437909732085</td>\n",
       "      <td>2</td>\n",
       "      <td>1</td>\n",
       "      <td>1</td>\n",
       "      <td>1</td>\n",
       "      <td>0</td>\n",
       "      <td>1.0</td>\n",
       "      <td>1</td>\n",
       "      <td>1.0</td>\n",
       "      <td>0.0</td>\n",
       "      <td>1</td>\n",
       "      <td>0</td>\n",
       "      <td>0</td>\n",
       "      <td>0</td>\n",
       "      <td>0.0</td>\n",
       "    </tr>\n",
       "  </tbody>\n",
       "</table>\n",
       "</div>"
      ],
      "text/plain": [
       "        date        fullVisitorId  visitNumber  visitStartTime  \\\n",
       "0 2016-09-02  1131660440785968503            1               1   \n",
       "1 2016-09-02   377306020877927890            1               0   \n",
       "2 2016-09-02  3895546263509774583            1               0   \n",
       "3 2016-09-02  4763447161404445595            1               0   \n",
       "4 2016-09-02    27294437909732085            2               1   \n",
       "\n",
       "   device.browser  device.isMobile  geoNetwork.continent  totals.bounces  \\\n",
       "0               1                0                     0             1.0   \n",
       "1               0                0                     0             1.0   \n",
       "2               1                0                     0             1.0   \n",
       "3               0                0                     0             1.0   \n",
       "4               1                1                     0             1.0   \n",
       "\n",
       "   totals.hits  totals.pageviews  totals.transactionRevenue  \\\n",
       "0            1               1.0                        0.0   \n",
       "1            1               1.0                        0.0   \n",
       "2            1               1.0                        0.0   \n",
       "3            1               1.0                        0.0   \n",
       "4            1               1.0                        0.0   \n",
       "\n",
       "   trafficSource.isTrueDirect  referred_channelGrouping  \\\n",
       "0                           0                         0   \n",
       "1                           0                         0   \n",
       "2                           0                         0   \n",
       "3                           0                         0   \n",
       "4                           1                         0   \n",
       "\n",
       "   social_channelGrouping  device.OS_chrome  classifier_predict_probas  \n",
       "0                       0                 0                        0.0  \n",
       "1                       0                 0                        0.0  \n",
       "2                       0                 0                        0.0  \n",
       "3                       0                 0                        0.0  \n",
       "4                       0                 0                        0.0  "
      ]
     },
     "execution_count": 26,
     "metadata": {},
     "output_type": "execute_result"
    }
   ],
   "source": [
    "df_train.head()"
   ]
  },
  {
   "cell_type": "code",
   "execution_count": 209,
   "metadata": {},
   "outputs": [],
   "source": [
    "# Separate Train and Target\n",
    "target = df_train['totals.transactionRevenue'].apply(lambda x: 0 if x==0 else np.log(x))\n",
    "train_cols = [col for col in df_train.columns[2:] if col != 'totals.transactionRevenue']\n",
    "train = df_train[train_cols]\n",
    "\n",
    "# Standardize\n",
    "scaler = StandardScaler()\n",
    "train = pd.DataFrame(data=scaler.fit_transform(train), columns=train_cols)"
   ]
  },
  {
   "cell_type": "markdown",
   "metadata": {},
   "source": [
    "# Funcs"
   ]
  },
  {
   "cell_type": "code",
   "execution_count": 16,
   "metadata": {},
   "outputs": [],
   "source": [
    "def grid_regressor(model, train, target, parameters={}, cv=4, timed=True, verbose=True, plot=False):\n",
    "    '''\n",
    "    For tuning models.\n",
    "    \n",
    "        Parameters:\n",
    "        -----------\n",
    "    model - sklearn model\n",
    "    train - array of training data\n",
    "    target - array of target data\n",
    "    parameters - dict of parameters the GSearcher will run over\n",
    "    cv - int, k-fold number\n",
    "    timed - boolean, gives printout of timings\n",
    "    verbose - boolean, printout the cv results\n",
    "    plot - boolean, makes a seaborn plot of the cv results, one parameter only\n",
    "    \n",
    "        Returns :\n",
    "        ---------\n",
    "    gsearcher - fitted and searched GridSearchCV object\n",
    "    '''\n",
    "    if timed:\n",
    "        start = time()\n",
    "        passed = time() - start\n",
    "        print(f'Seconds to start: {passed:.2f}')\n",
    "    \n",
    "    # GridSearch fitting\n",
    "    gsearcher = GridSearchCV(\n",
    "        estimator=model, \n",
    "        param_grid=parameters,\n",
    "        scoring='neg_mean_squared_error',\n",
    "        n_jobs=4,\n",
    "        cv=cv)\n",
    "    gsearcher.fit(train, target)\n",
    "    results = gsearcher.cv_results_\n",
    "    \n",
    "    if timed:\n",
    "        passed = time() - start\n",
    "        print(f'Seconds to fit: {passed:.2f}')\n",
    "        \n",
    "    # Verbose Printout\n",
    "    if verbose:\n",
    "        print('Grid Scores: \\n')\n",
    "        pp.pprint(results)\n",
    "        print(f'Best Model Parameters: {gsearcher.best_params_}')\n",
    "        print(f'Best Model Score: {gsearcher.best_score_:.4f}')\n",
    "    \n",
    "    # Plot CV Results\n",
    "    if plot:\n",
    "        y = results['mean_test_score']\n",
    "        x = range(len(y))\n",
    "        model_name = str(model.__class__).split('.')[-1][:-2]\n",
    "        param = list(results['params'][0].keys())[0]\n",
    "        labels = [str(pair[param]) for pair in results['params']]\n",
    "\n",
    "        plt.figure(figsize=(8,6))\n",
    "        plt.scatter(x=x, y=y)\n",
    "        plt.title(f'{model_name} over {param}')\n",
    "        plt.xlabel(param)\n",
    "        plt.ylabel('MSE')\n",
    "        plt.xticks(x, labels, rotation=60)\n",
    "    \n",
    "    return gsearcher"
   ]
  },
  {
   "cell_type": "code",
   "execution_count": 13,
   "metadata": {},
   "outputs": [],
   "source": [
    "def model_validate(model, train, target, cv=5, timed=True, verbose=True, feature_importance=False, feature_cols=None):\n",
    "    '''\n",
    "    For validating a model's score on a single set of parameters.\n",
    "    \n",
    "        Paramters:\n",
    "        ----------\n",
    "    model - sklearn model, parameters set on instantiation\n",
    "    train - array of training data\n",
    "    target - array of target data\n",
    "    cv - int, k-fold number\n",
    "    timed - boolean, gives printout of timings\n",
    "    verbose - boolean, printout the cv_results\n",
    "    feature_importance - boolean, makes a seaborn plot of the feature importance, only works for ensembles\n",
    "    feature_cols - list of strings, column labels for the feature importance plot, ensemble only\n",
    "    \n",
    "        Returns:\n",
    "        ---------\n",
    "    model - the fitted sklearn model\n",
    "\n",
    "    '''\n",
    "    # Fit and Predict\n",
    "    if timed:\n",
    "        start = time()\n",
    "        passed = time() - start\n",
    "        print(f'Seconds to start: {passed:.2f}')\n",
    "    model.fit(train, target)\n",
    "    if timed:\n",
    "        passed = time() - start\n",
    "        print(f'Seconds to fit: {passed:.2f}')\n",
    "    \n",
    "    # CV\n",
    "    cv_score = cross_validate(model, train, target, cv=cv, scoring='neg_mean_squared_error')\n",
    "    if verbose:\n",
    "        print('Average MSE:', np.mean(cv_score['test_score']))\n",
    "        print('Std Dev:', np.std(cv_score['test_score']))\n",
    "    if timed:\n",
    "        passed = time() - start\n",
    "        print(f'Seconds to CV: {passed:.2f}')\n",
    "    \n",
    "    # Plots feature importance, for ensemble models only\n",
    "    if feature_importance:\n",
    "        feat_imp = pd.Series(model.feature_importances_, index=feature_cols).sort_values(ascending=False)\n",
    "        feat_imp.plot(kind='bar', title='Feature Importances')\n",
    "        plt.ylabel('Feature Importance Score')\n",
    "        plt.xticks(rotation=60)\n",
    "    \n",
    "    return model"
   ]
  },
  {
   "cell_type": "markdown",
   "metadata": {},
   "source": [
    "# Modeling"
   ]
  },
  {
   "cell_type": "markdown",
   "metadata": {},
   "source": [
    "The final model that is ran on the test set will have two parts: Classify if a visitor will make a purchase and then Predict that purchase value. If the data point has a lower probability of a purchase than that of some determined threshold, then it'll just be labeled as zero and never sent to the Predictor. The motivation for this modeling approach is that of the 903k training data points, only 11k made an actual perchase. First modeling runs without separating out the zeros proved fruitless.\n",
    "\n",
    "The workflow:\n",
    "* Determine Classifier Threshold\n",
    "* Run Regression models with only known spenders\n",
    "* Run Regression models with Classified spenders"
   ]
  },
  {
   "cell_type": "markdown",
   "metadata": {},
   "source": [
    "## Determine Threshold"
   ]
  },
  {
   "cell_type": "markdown",
   "metadata": {},
   "source": [
    "The predicted probabilities from the classifier will be used to generate a ROC curve. Priority will be on a higher True Negative Rate because there's not a lot of people who spent money and they are the much more useful data points for training the Regressor. Maximizing the TNR (minimizing the FPR) will results in fewer loss of spenders. Will pick 3-4 thresholds to use for the following sections. Yes, that means 3-4 different datasets for each gridsearched regressor but the threshold should definitely be CV'd somehow and not just picked on intuition. "
   ]
  },
  {
   "cell_type": "code",
   "execution_count": 83,
   "metadata": {},
   "outputs": [],
   "source": [
    "y_true = df_train['totals.transactionRevenue'].apply(lambda x: 0 if x==0 else 1)\n",
    "y_pred = df_train['classifier_predict_probas']\n",
    "\n",
    "fpr, tpr, thresholds = roc_curve(y_true, y_pred)"
   ]
  },
  {
   "cell_type": "code",
   "execution_count": 117,
   "metadata": {},
   "outputs": [
    {
     "data": {
      "text/plain": [
       "Text(0.5,1,'ROC of Classifying Spenders')"
      ]
     },
     "execution_count": 117,
     "metadata": {},
     "output_type": "execute_result"
    },
    {
     "data": {
      "image/png": "[encoded data removed]",
      "text/plain": [
       "<Figure size 432x288 with 1 Axes>"
      ]
     },
     "metadata": {},
     "output_type": "display_data"
    }
   ],
   "source": [
    "plt.figure()\n",
    "plt.plot(fpr[:1000], tpr[:1000], color='red', lw=2)\n",
    "# plt.plot([0, 1], [0, 1], color='navy', lw=2, linestyle='--')\n",
    "plt.xlim([0.0, 0.01])\n",
    "# plt.ylim([0.0, 1.05])\n",
    "plt.xlabel('False Positive Rate')\n",
    "plt.ylabel('True Positive Rate')\n",
    "plt.title('ROC of Classifying Spenders')"
   ]
  },
  {
   "cell_type": "code",
   "execution_count": 118,
   "metadata": {},
   "outputs": [
    {
     "data": {
      "text/plain": [
       "0.1214"
      ]
     },
     "execution_count": 118,
     "metadata": {},
     "output_type": "execute_result"
    }
   ],
   "source": [
    "thresholds[-1000]"
   ]
  },
  {
   "cell_type": "code",
   "execution_count": 120,
   "metadata": {},
   "outputs": [],
   "source": [
    "def inspector(threshold): \n",
    "    df_spend = df_train[df_train['classifier_predict_probas'] > threshold]\n",
    "    df_no_spend = df_train[df_train['classifier_predict_probas'] <= threshold]\n",
    "    \n",
    "    tp = df_spend[df_spend['totals.transactionRevenue'] > 0]['totals.transactionRevenue']\n",
    "    tn = df_no_spend[df_no_spend['totals.transactionRevenue']==0]['totals.transactionRevenue']\n",
    "    fp = df_spend[df_spend['totals.transactionRevenue']==0]['totals.transactionRevenue']\n",
    "    fn = df_no_spend[df_no_spend['totals.transactionRevenue'] > 0]['totals.transactionRevenue']\n",
    "    \n",
    "    print('Predict Spend')\n",
    "    print(len(df_spend), round(len(df_spend)/len(df_train), 2))\n",
    "    print('TPR:', round(len(tp)/len(df_spend), 3), len(tp))\n",
    "    print('FPR:', round(len(fp)/len(df_spend), 3), len(fp))\n",
    "    \n",
    "    print('---')\n",
    "    \n",
    "    print('Predict No Spend')\n",
    "    print(len(df_no_spend), round(len(df_no_spend)/len(df_train), 2))\n",
    "    print('TNR:', round(len(tn)/len(df_no_spend), 3), len(tn))\n",
    "    print('FNR:', round(len(fn)/len(df_no_spend), 3), len(fn))"
   ]
  },
  {
   "cell_type": "code",
   "execution_count": 121,
   "metadata": {
    "scrolled": true
   },
   "outputs": [
    {
     "name": "stdout",
     "output_type": "stream",
     "text": [
      "-------------------------------------------------- \n",
      " 0.005 \n",
      "\n",
      "Predict Spend\n",
      "82971 0.09\n",
      "TPR: 0.138 11426\n",
      "FPR: 0.862 71545\n",
      "---\n",
      "Predict No Spend\n",
      "820682 0.91\n",
      "TNR: 1.0 820593\n",
      "FNR: 0.0 89\n",
      "\n",
      "-------------------------------------------------- \n",
      " 0.01 \n",
      "\n",
      "Predict Spend\n",
      "72612 0.08\n",
      "TPR: 0.156 11363\n",
      "FPR: 0.844 61249\n",
      "---\n",
      "Predict No Spend\n",
      "831041 0.92\n",
      "TNR: 1.0 830889\n",
      "FNR: 0.0 152\n",
      "\n",
      "-------------------------------------------------- \n",
      " 0.02 \n",
      "\n",
      "Predict Spend\n",
      "62234 0.07\n",
      "TPR: 0.18 11222\n",
      "FPR: 0.82 51012\n",
      "---\n",
      "Predict No Spend\n",
      "841419 0.93\n",
      "TNR: 1.0 841126\n",
      "FNR: 0.0 293\n",
      "\n",
      "-------------------------------------------------- \n",
      " 0.05 \n",
      "\n",
      "Predict Spend\n",
      "48279 0.05\n",
      "TPR: 0.224 10798\n",
      "FPR: 0.776 37481\n",
      "---\n",
      "Predict No Spend\n",
      "855374 0.95\n",
      "TNR: 0.999 854657\n",
      "FNR: 0.001 717\n",
      "\n",
      "-------------------------------------------------- \n",
      " 0.1 \n",
      "\n",
      "Predict Spend\n",
      "37292 0.04\n",
      "TPR: 0.268 9983\n",
      "FPR: 0.732 27309\n",
      "---\n",
      "Predict No Spend\n",
      "866361 0.96\n",
      "TNR: 0.998 864829\n",
      "FNR: 0.002 1532\n",
      "\n",
      "-------------------------------------------------- \n",
      " 0.15 \n",
      "\n",
      "Predict Spend\n",
      "29776 0.03\n",
      "TPR: 0.305 9076\n",
      "FPR: 0.695 20700\n",
      "---\n",
      "Predict No Spend\n",
      "873877 0.97\n",
      "TNR: 0.997 871438\n",
      "FNR: 0.003 2439\n",
      "\n",
      "-------------------------------------------------- \n",
      " 0.2 \n",
      "\n",
      "Predict Spend\n",
      "22189 0.02\n",
      "TPR: 0.35 7756\n",
      "FPR: 0.65 14433\n",
      "---\n",
      "Predict No Spend\n",
      "881464 0.98\n",
      "TNR: 0.996 877705\n",
      "FNR: 0.004 3759\n",
      "\n",
      "-------------------------------------------------- \n",
      " 0.25 \n",
      "\n",
      "Predict Spend\n",
      "16964 0.02\n",
      "TPR: 0.387 6571\n",
      "FPR: 0.613 10393\n",
      "---\n",
      "Predict No Spend\n",
      "886689 0.98\n",
      "TNR: 0.994 881745\n",
      "FNR: 0.006 4944\n",
      "\n"
     ]
    }
   ],
   "source": [
    "for threshold in [0.005, 0.01, 0.02, 0.05, 0.1, 0.15, 0.2, 0.25]:\n",
    "    print('-'*50, '\\n', threshold, '\\n')\n",
    "    inspector(threshold)\n",
    "    print()"
   ]
  },
  {
   "cell_type": "markdown",
   "metadata": {},
   "source": [
    "Going with thresholds of 0.01, 0.1, and 0.2. Each of these will generate a new training set for the regressors.\n",
    "\n",
    "0.01 might be good because 1.3% of the spenders are mislabled as zeros. \n",
    "\n",
    "0.1 may be good because there's roughly a 2 to 1 ratio of zeros to spenders vs. a 6 to 1 for the 0.01 threshold. However the regressing dataset would be missing 13.3% of spenders.\n",
    "\n",
    "0.2 probably won't be good, but let's run models on it anyway.\n",
    "\n",
    "The 4th and last Classifier-Regressor combo will be a 0.01 dataset, a Regressor trained on only known spenders, and CV'd against the whole dataset. "
   ]
  },
  {
   "cell_type": "code",
   "execution_count": 162,
   "metadata": {},
   "outputs": [],
   "source": [
    "# indices\n",
    "idxs_01 = df_train[df_train['classifier_predict_probas'] > 0.01].index\n",
    "idxs_10 = df_train[df_train['classifier_predict_probas'] > 0.10].index\n",
    "idxs_20 = df_train[df_train['classifier_predict_probas'] > 0.20].index\n",
    "idxs_spend = df_train[df_train['totals.transactionRevenue'] > 0].index"
   ]
  },
  {
   "cell_type": "markdown",
   "metadata": {},
   "source": [
    "---\n",
    "# Modeling"
   ]
  },
  {
   "cell_type": "markdown",
   "metadata": {},
   "source": [
    "Since the Regressor will be trained with a different dataset, (the 1%, 10%, and 20% datasets) all final models need to be CV'd against the entire dataset. This means that the MSE used to determine the best model will be calculated with the Classifiers predicted zeros and the Regressors predicted values against the actual transaction revenue. Sklearn's GridSearchCV and cross_validate are built to use only one model, so a function must be built to perform this niche CV. \n",
    "This function will:\n",
    "* Train the Regressor on the desired subsample of data\n",
    "* Append each model's predictions to the Classifiers zeros\n",
    "* Compute the RMSE for each set of predictions\n",
    "* Plot the RMSE"
   ]
  },
  {
   "cell_type": "code",
   "execution_count": 205,
   "metadata": {},
   "outputs": [],
   "source": [
    "def partitioner(dataset, n_folds):\n",
    "    '''\n",
    "    \n",
    "    '''\n",
    "    dataset = dataset.copy()\n",
    "    partitions = []\n",
    "    for n in range(n_folds):\n",
    "        frac = 1/(n_folds - n)\n",
    "        if frac != 1:\n",
    "            sample_idxs = dataset.sample(frac=frac, random_state=42).index\n",
    "            partitions.append(dataset.loc[sample_idxs])\n",
    "            dataset.drop(sample_idxs, inplace=True)\n",
    "        else:\n",
    "            partitions.append(dataset)\n",
    "    return partitions"
   ]
  },
  {
   "cell_type": "code",
   "execution_count": 201,
   "metadata": {},
   "outputs": [
    {
     "data": {
      "text/plain": [
       "816388    18.197412\n",
       "737725          NaN\n",
       "546467          NaN\n",
       "300915    17.581583\n",
       "633354          NaN\n",
       "Name: totals.transactionRevenue, dtype: float64"
      ]
     },
     "execution_count": 201,
     "metadata": {},
     "output_type": "execute_result"
    }
   ],
   "source": [
    "partitions[0].head()"
   ]
  },
  {
   "cell_type": "code",
   "execution_count": null,
   "metadata": {},
   "outputs": [],
   "source": [
    "def gsearch_regressor(model, reg_idxs, parameters, cv=4, timed=True, plot=False):\n",
    "    '''\n",
    "    For tuning models.\n",
    "    \n",
    "        Parameters:\n",
    "        -----------\n",
    "    model - sklearn model\n",
    "    train - array of training data\n",
    "    target - array of target data\n",
    "    parameters - dict of parameters the GSearcher will run over\n",
    "    cv - int, k-fold number\n",
    "    timed - boolean, gives printout of timings\n",
    "    verbose - boolean, printout the cv results\n",
    "    plot - boolean, makes a seaborn plot of the cv results, one parameter only\n",
    "    \n",
    "        Returns :\n",
    "        ---------\n",
    "    gsearcher - fitted and searched GridSearchCV object\n",
    "    '''\n",
    "    if timed: start = time()\n",
    "    \n",
    "    train_reg = df_train.iloc[reg_idxs][train_cols]\n",
    "    target_reg = df_train.iloc[reg_idxs]['totals.transactionRevenue']\n",
    "    target_reg = target_reg.apply(lambda x: 0 if x==0 else np.log(x))\n",
    "    \n",
    "    # GridSearch fitting\n",
    "    gsearcher = GridSearchCV(\n",
    "        estimator=model, \n",
    "        param_grid=parameters,\n",
    "        scoring='neg_mean_squared_error',\n",
    "        n_jobs=-1,\n",
    "        cv=cv)\n",
    "    gsearcher.fit(train, target)\n",
    "    results = gsearcher.cv_results_\n",
    "    \n",
    "    if timed:\n",
    "        passed = time() - start\n",
    "        print(f'Seconds to fit: {passed:.2f}')\n",
    "        \n",
    "    # Verbose Printout\n",
    "    if verbose:\n",
    "        print('Grid Scores: \\n')\n",
    "        pp.pprint(results)\n",
    "        print(f'Best Model Parameters: {gsearcher.best_params_}')\n",
    "        print(f'Best Model Score: {gsearcher.best_score_:.4f}')\n",
    "    \n",
    "    # Plot CV Results\n",
    "    if plot:\n",
    "        y = results['mean_test_score']\n",
    "        x = range(len(y))\n",
    "        model_name = str(model.__class__).split('.')[-1][:-2]\n",
    "        param = list(results['params'][0].keys())[0]\n",
    "        labels = [str(pair[param]) for pair in results['params']]\n",
    "\n",
    "        plt.figure(figsize=(8,6))\n",
    "        plt.scatter(x=x, y=y)\n",
    "        plt.title(f'{model_name} over {param}')\n",
    "        plt.xlabel(param)\n",
    "        plt.ylabel('MSE')\n",
    "        plt.xticks(x, labels, rotation=60)\n",
    "    \n",
    "    return gsearcher"
   ]
  },
  {
   "cell_type": "code",
   "execution_count": 293,
   "metadata": {},
   "outputs": [],
   "source": [
    "def modeler(model, reg_idxs, parameters={}, cv=5, feature_cols=None):\n",
    "    '''\n",
    "    For both tuning and validating models.\n",
    "    \n",
    "    Using the indices provided from reg_idxs this function assumes that all other indices in \n",
    "    the dataframe are predicted as non-spenders. Then the function will either gridsearch \n",
    "    over the parameters or just train the model - this depends on the \"parameters\" argument. \n",
    "    A printout of the MSEs for the total dataset and the Regressor partition dataset follows. \n",
    "    If a gridsearch happened, a plot of the scores follows. Finally, if a gridsearch did NOT\n",
    "    happen AND the feature_cols is set to train_cols. Then their will be a feature importances\n",
    "    bar plot; helpful for ensemble methods. Returns the trained/best model.\n",
    "    \n",
    "        Parameters:\n",
    "        -----------\n",
    "    model - sklearn model\n",
    "    reg_idxs - the indices the of dataset the Regressor will be trained on\n",
    "    parameters - dict of parameters the GSearcher will run over, leave empty if not tuning\n",
    "    cv - int, k-fold number\n",
    "    feature_cols - list of strings, column labels for the feature importance plot, ensemble only\n",
    "    \n",
    "        Returns :\n",
    "        ---------\n",
    "    gsearcher - fitted and searched GridSearchCV object\n",
    "    \n",
    "    '''\n",
    "    start = time()\n",
    "    \n",
    "    train_reg = train.iloc[reg_idxs][train_cols]\n",
    "    target_reg = target.iloc[reg_idxs]\n",
    "    \n",
    "    # Fit\n",
    "    if parameters:\n",
    "        gsearcher = GridSearchCV(\n",
    "            estimator=model, \n",
    "            param_grid=parameters,\n",
    "            scoring='neg_mean_squared_error',\n",
    "            n_jobs=-1,\n",
    "            cv=cv)\n",
    "        gsearcher.fit(train, target)\n",
    "        results = gsearcher.cv_results_\n",
    "        model = gsearcher.best_estimator_\n",
    "        best_params = gsearcher.best_params_\n",
    "    else:\n",
    "        model.fit(train_reg, target_reg)\n",
    "\n",
    "    # Predict\n",
    "    reg_preds = model.predict(train_reg)\n",
    "    y_pred = pd.Series(np.zeros(len(df_train)))\n",
    "    for idx, pred in zip(reg_idxs, reg_preds):\n",
    "        y_pred.set_value(idx, pred)\n",
    "    \n",
    "    # MSE\n",
    "    total_MSE = mean_squared_error(y_true, y_pred)\n",
    "    reg_MSE = mean_squared_error(target_reg, reg_preds)\n",
    "    print('- ' * 50)\n",
    "    print('Total MSE:\\t', round(total_MSE, 4))\n",
    "    print('Reg MSE:\\t', round(reg_MSE, 4))\n",
    "    print('- ' * 50)\n",
    "    \n",
    "    # Gsearch Report\n",
    "    if parameters:\n",
    "        scores = list(results['mean_test_score'])\n",
    "        best = max(scores)\n",
    "        print('Mean Test Scores:', scores)\n",
    "        print('Best Test Index:', scores.index(best))\n",
    "        print('Best Test Score:', round(best, 4))\n",
    "        print('Best Parameter:', best_params)\n",
    "    \n",
    "    # Plots feature importance, for ensemble models only\n",
    "    if feature_cols:\n",
    "        feat_imp = pd.Series(model.feature_importances_, index=feature_cols).sort_values(ascending=False)\n",
    "        feat_imp.plot(kind='bar', title='Feature Importances')\n",
    "        plt.ylabel('Feature Importance Score')\n",
    "        plt.xticks(rotation=60)\n",
    "    \n",
    "    # Plot CV Results\n",
    "    if parameters:\n",
    "        y = results['mean_test_score']\n",
    "        x = range(len(y))\n",
    "        model_name = str(model.__class__).split('.')[-1][:-2]\n",
    "        param = list(results['params'][0].keys())[0]\n",
    "        labels = [str(pair[param]) for pair in results['params']]\n",
    "\n",
    "        plt.figure(figsize=(8,6))\n",
    "        plt.scatter(x=x, y=y)\n",
    "        plt.title(f'{model_name} over {param}\\n(Regressor Dataset Only)', fontsize=18)\n",
    "        plt.xlabel(param)\n",
    "        plt.ylabel('MSE')\n",
    "        plt.xticks(x, labels, rotation=60)\n",
    "\n",
    "    print(f'Seconds: {time() - start}')\n",
    "    \n",
    "    return model"
   ]
  },
  {
   "cell_type": "markdown",
   "metadata": {},
   "source": [
    "---\n",
    "## 1% Threshold Dataset"
   ]
  },
  {
   "cell_type": "markdown",
   "metadata": {},
   "source": [
    "---\n",
    "### BayesianRidge"
   ]
  },
  {
   "cell_type": "code",
   "execution_count": 280,
   "metadata": {},
   "outputs": [
    {
     "name": "stdout",
     "output_type": "stream",
     "text": [
      "- - - - - - - - - - - - - - - - - - - - - - - - - - - - - - - - - - - - - - - - - - - - - - - - - - \n",
      "Total MSE:\t 2.8454\n",
      "Reg MSE:\t 34.7735\n",
      "- - - - - - - - - - - - - - - - - - - - - - - - - - - - - - - - - - - - - - - - - - - - - - - - - - \n",
      "Seconds: 0.5241892337799072\n"
     ]
    }
   ],
   "source": [
    "model = BayesianRidge\n",
    "reg_idxs = idxs_01\n",
    "\n",
    "bayes_model = modeler(BayesianRidge(), reg_idxs)"
   ]
  },
  {
   "cell_type": "markdown",
   "metadata": {},
   "source": [
    "---\n",
    "### OLS"
   ]
  },
  {
   "cell_type": "code",
   "execution_count": 281,
   "metadata": {},
   "outputs": [
    {
     "name": "stdout",
     "output_type": "stream",
     "text": [
      "- - - - - - - - - - - - - - - - - - - - - - - - - - - - - - - - - - - - - - - - - - - - - - - - - - \n",
      "Total MSE:\t 2.8454\n",
      "Reg MSE:\t 34.7734\n",
      "- - - - - - - - - - - - - - - - - - - - - - - - - - - - - - - - - - - - - - - - - - - - - - - - - - \n",
      "Seconds: 0.5071489810943604\n"
     ]
    }
   ],
   "source": [
    "model = LinearRegression()\n",
    "reg_idxs = idxs_01\n",
    "\n",
    "linear_model = modeler(model, reg_idxs)"
   ]
  },
  {
   "cell_type": "markdown",
   "metadata": {},
   "source": [
    "---\n",
    "### Ridge"
   ]
  },
  {
   "cell_type": "markdown",
   "metadata": {},
   "source": [
    "---\n",
    "#### Baseline"
   ]
  },
  {
   "cell_type": "code",
   "execution_count": 282,
   "metadata": {},
   "outputs": [
    {
     "name": "stdout",
     "output_type": "stream",
     "text": [
      "- - - - - - - - - - - - - - - - - - - - - - - - - - - - - - - - - - - - - - - - - - - - - - - - - - \n",
      "Total MSE:\t 2.8454\n",
      "Reg MSE:\t 34.7734\n",
      "- - - - - - - - - - - - - - - - - - - - - - - - - - - - - - - - - - - - - - - - - - - - - - - - - - \n",
      "Seconds: 0.4817538261413574\n"
     ]
    }
   ],
   "source": [
    "model = Ridge(random_state=42)\n",
    "reg_idxs = idxs_01\n",
    "\n",
    "ridge_model = modeler(model, reg_idxs)"
   ]
  },
  {
   "cell_type": "markdown",
   "metadata": {},
   "source": [
    "---\n",
    "#### alpha\n",
    "Default: 1.0"
   ]
  },
  {
   "cell_type": "code",
   "execution_count": 283,
   "metadata": {
    "scrolled": false
   },
   "outputs": [
    {
     "name": "stdout",
     "output_type": "stream",
     "text": [
      "- - - - - - - - - - - - - - - - - - - - - - - - - - - - - - - - - - - - - - - - - - - - - - - - - - \n",
      "Total MSE:\t 2.8459\n",
      "Reg MSE:\t 34.7796\n",
      "- - - - - - - - - - - - - - - - - - - - - - - - - - - - - - - - - - - - - - - - - - - - - - - - - - \n",
      "Mean Test Scores: [-2.847147176199734, -2.8471471759728204, -2.8471471756892037, -2.847147173421269, -2.8471471705888476, -2.847147148029348, -2.847147120079629, -2.8471469064626396, -2.8471466643669587]\n",
      "Best Test Index: 8\n",
      "Best Test Score: -2.8471\n",
      "Best Parameter: {'alpha': 100}\n",
      "Seconds: 13.316991090774536\n"
     ]
    },
    {
     "data": {
      "image/png": "[encoded data removed]",
      "text/plain": [
       "<Figure size 576x432 with 1 Axes>"
      ]
     },
     "metadata": {},
     "output_type": "display_data"
    }
   ],
   "source": [
    "model = Ridge(random_state=42)\n",
    "reg_idxs = idxs_01\n",
    "parameters = {'alpha': [0.01, 0.05, 0.1, 0.5, 1.0, 5.0, 10, 50, 100]}\n",
    "\n",
    "ridge_model = modeler(model, reg_idxs, parameters=parameters)"
   ]
  },
  {
   "cell_type": "markdown",
   "metadata": {},
   "source": [
    "Not a significant amount of variation above so sticking with the default value."
   ]
  },
  {
   "cell_type": "markdown",
   "metadata": {},
   "source": [
    "---\n",
    "### Lasso"
   ]
  },
  {
   "cell_type": "markdown",
   "metadata": {},
   "source": [
    "---\n",
    "#### Baseline"
   ]
  },
  {
   "cell_type": "code",
   "execution_count": 286,
   "metadata": {},
   "outputs": [
    {
     "name": "stdout",
     "output_type": "stream",
     "text": [
      "- - - - - - - - - - - - - - - - - - - - - - - - - - - - - - - - - - - - - - - - - - - - - - - - - - \n",
      "Total MSE:\t 2.8587\n",
      "Reg MSE:\t 34.9399\n",
      "- - - - - - - - - - - - - - - - - - - - - - - - - - - - - - - - - - - - - - - - - - - - - - - - - - \n",
      "Seconds: 0.46265673637390137\n"
     ]
    }
   ],
   "source": [
    "model = Lasso(random_state=42)\n",
    "reg_idxs = idxs_01\n",
    "\n",
    "lasso_model = modeler(model, reg_idxs)"
   ]
  },
  {
   "cell_type": "markdown",
   "metadata": {},
   "source": [
    "---\n",
    "#### alpha\n",
    "Default: 1.0"
   ]
  },
  {
   "cell_type": "code",
   "execution_count": 288,
   "metadata": {},
   "outputs": [
    {
     "name": "stdout",
     "output_type": "stream",
     "text": [
      "- - - - - - - - - - - - - - - - - - - - - - - - - - - - - - - - - - - - - - - - - - - - - - - - - - \n",
      "Total MSE:\t 2.8461\n",
      "Reg MSE:\t 34.7821\n",
      "- - - - - - - - - - - - - - - - - - - - - - - - - - - - - - - - - - - - - - - - - - - - - - - - - - \n",
      "Mean Test Scores: [-2.846993806724086, -2.849338040343019, -2.856774338534613, -3.096504970784448, -3.8467688778894518, -4.01487091038447, -4.01487091038447, -4.01487091038447, -4.01487091038447]\n",
      "Best Test Index: 0\n",
      "Best Test Score: -2.847\n",
      "Best Parameter: {'alpha': 0.01}\n",
      "Seconds: 14.966046810150146\n"
     ]
    },
    {
     "data": {
      "image/png": "[encoded data removed]",
      "text/plain": [
       "<Figure size 576x432 with 1 Axes>"
      ]
     },
     "metadata": {},
     "output_type": "display_data"
    }
   ],
   "source": [
    "model = Lasso(random_state=42)\n",
    "reg_idxs = idxs_01\n",
    "parameters = {'alpha': [0.01, 0.05, 0.1, 0.5, 1.0, 5.0, 10, 50, 100]}\n",
    "\n",
    "lasso_model = modeler(model, reg_idxs, parameters=parameters)"
   ]
  },
  {
   "cell_type": "markdown",
   "metadata": {},
   "source": [
    "Lasso gets a little better with tuning Alpha but the tuned model is ultimately on par with Ridge, OLS, and Bayes. Makes sense since an alpha = 0 makes it OLS anyway."
   ]
  },
  {
   "cell_type": "markdown",
   "metadata": {},
   "source": [
    "---\n",
    "### Random Forest"
   ]
  },
  {
   "cell_type": "markdown",
   "metadata": {},
   "source": [
    "---\n",
    "#### Baseline"
   ]
  },
  {
   "cell_type": "code",
   "execution_count": 294,
   "metadata": {},
   "outputs": [
    {
     "name": "stdout",
     "output_type": "stream",
     "text": [
      "- - - - - - - - - - - - - - - - - - - - - - - - - - - - - - - - - - - - - - - - - - - - - - - - - - \n",
      "Total MSE:\t 2.4228\n",
      "Reg MSE:\t 29.5143\n",
      "- - - - - - - - - - - - - - - - - - - - - - - - - - - - - - - - - - - - - - - - - - - - - - - - - - \n",
      "Seconds: 1.514294147491455\n"
     ]
    },
    {
     "data": {
      "image/png": "[encoded data removed]",
      "text/plain": [
       "<Figure size 432x288 with 1 Axes>"
      ]
     },
     "metadata": {},
     "output_type": "display_data"
    }
   ],
   "source": [
    "model = RandomForestRegressor(random_state=42)\n",
    "reg_idxs = idxs_01\n",
    "\n",
    "rf_model = modeler(model, reg_idxs, feature_cols=train_cols)"
   ]
  },
  {
   "cell_type": "markdown",
   "metadata": {},
   "source": [
    "---\n",
    "#### n_estimators\n",
    "Default: 10"
   ]
  },
  {
   "cell_type": "code",
   "execution_count": 298,
   "metadata": {},
   "outputs": [
    {
     "name": "stdout",
     "output_type": "stream",
     "text": [
      "- - - - - - - - - - - - - - - - - - - - - - - - - - - - - - - - - - - - - - - - - - - - - - - - - - \n",
      "Total MSE:\t 2.3888\n",
      "Reg MSE:\t 29.0917\n",
      "- - - - - - - - - - - - - - - - - - - - - - - - - - - - - - - - - - - - - - - - - - - - - - - - - - \n",
      "Mean Test Scores: [-3.2072474509057023, -3.1774779677214315, -3.1688682031701125, -3.1637670127073334, -3.1611911088522398, -3.1588283956207417, -3.15762372136402, -3.156686756197251, -3.155924547384309, -3.1554642273660436, -3.1546610940617956, -3.1537494156906973, -3.1533205852885833, -3.1527567351557786, -3.1525766023139767, -3.152035206764701, -3.151971778877252, -3.1521945860379086, -3.152000050491651, -3.1520904302468034]\n",
      "Best Test Index: 16\n",
      "Best Test Score: -3.152\n",
      "Best Parameter: {'n_estimators': 170}\n",
      "Seconds: 7022.248361825943\n"
     ]
    },
    {
     "data": {
      "image/png": "[encoded data removed]",
      "text/plain": [
       "<Figure size 576x432 with 1 Axes>"
      ]
     },
     "metadata": {},
     "output_type": "display_data"
    }
   ],
   "source": [
    "model = RandomForestRegressor(random_state=42)\n",
    "reg_idxs = idxs_01\n",
    "parameters = {'n_estimators': np.linspace(10, 200, 20).astype(int)}\n",
    "\n",
    "rf_model = modeler(model, reg_idxs, parameters=parameters)"
   ]
  },
  {
   "cell_type": "markdown",
   "metadata": {},
   "source": [
    "Final model will have 170 estimators but for tuning max_features the model will use 100 due to lengthy training times."
   ]
  },
  {
   "cell_type": "markdown",
   "metadata": {},
   "source": [
    "---\n",
    "#### max_features\n",
    "Default: \"auto\" (n_features)"
   ]
  },
  {
   "cell_type": "code",
   "execution_count": 319,
   "metadata": {},
   "outputs": [
    {
     "name": "stdout",
     "output_type": "stream",
     "text": [
      "- - - - - - - - - - - - - - - - - - - - - - - - - - - - - - - - - - - - - - - - - - - - - - - - - - \n",
      "Total MSE:\t 2.3897\n",
      "Reg MSE:\t 29.1024\n",
      "- - - - - - - - - - - - - - - - - - - - - - - - - - - - - - - - - - - - - - - - - - - - - - - - - - \n",
      "Mean Test Scores: [-3.1622948577354704, -3.159808679098504, -3.1572601560278803, -3.15633497664266, -3.1558861637992695, -3.153899975506263, -3.1527914280172435, -3.155424122508151]\n",
      "Best Test Index: 6\n",
      "Best Test Score: -3.1528\n",
      "Best Parameter: {'max_features': 9}\n",
      "Seconds: 1508.8655459880829\n"
     ]
    },
    {
     "data": {
      "image/png": "[encoded data removed]",
      "text/plain": [
       "<Figure size 576x432 with 1 Axes>"
      ]
     },
     "metadata": {},
     "output_type": "display_data"
    }
   ],
   "source": [
    "model = RandomForestRegressor(n_estimators=100, random_state=42)\n",
    "reg_idxs = idxs_01\n",
    "parameters = {'max_features': range(3, 11)}\n",
    "\n",
    "rf_model = modeler(model, reg_idxs, parameters=parameters)"
   ]
  },
  {
   "cell_type": "code",
   "execution_count": 321,
   "metadata": {},
   "outputs": [
    {
     "name": "stdout",
     "output_type": "stream",
     "text": [
      "- - - - - - - - - - - - - - - - - - - - - - - - - - - - - - - - - - - - - - - - - - - - - - - - - - \n",
      "Total MSE:\t 2.389\n",
      "Reg MSE:\t 29.0935\n",
      "- - - - - - - - - - - - - - - - - - - - - - - - - - - - - - - - - - - - - - - - - - - - - - - - - - \n",
      "Seconds: 18.31916093826294\n"
     ]
    },
    {
     "data": {
      "image/png": "[encoded data removed]",
      "text/plain": [
       "<Figure size 432x288 with 1 Axes>"
      ]
     },
     "metadata": {},
     "output_type": "display_data"
    }
   ],
   "source": [
    "model = RandomForestRegressor(n_estimators=170, random_state=42)\n",
    "reg_idxs = idxs_01\n",
    "\n",
    "rf_model = modeler(model, reg_idxs, feature_cols=train_cols)"
   ]
  },
  {
   "cell_type": "code",
   "execution_count": 320,
   "metadata": {},
   "outputs": [
    {
     "name": "stdout",
     "output_type": "stream",
     "text": [
      "- - - - - - - - - - - - - - - - - - - - - - - - - - - - - - - - - - - - - - - - - - - - - - - - - - \n",
      "Total MSE:\t 2.3888\n",
      "Reg MSE:\t 29.0911\n",
      "- - - - - - - - - - - - - - - - - - - - - - - - - - - - - - - - - - - - - - - - - - - - - - - - - - \n",
      "Seconds: 12.91598105430603\n"
     ]
    },
    {
     "data": {
      "image/png": "[encoded data removed]",
      "text/plain": [
       "<Figure size 432x288 with 1 Axes>"
      ]
     },
     "metadata": {},
     "output_type": "display_data"
    }
   ],
   "source": [
    "model = RandomForestRegressor(n_estimators=170, max_features=9, random_state=42)\n",
    "reg_idxs = idxs_01\n",
    "\n",
    "rf_model = modeler(model, reg_idxs, feature_cols=train_cols)"
   ]
  },
  {
   "cell_type": "code",
   "execution_count": null,
   "metadata": {},
   "outputs": [],
   "source": []
  }
 ],
 "metadata": {
  "kernelspec": {
   "display_name": "Python 3",
   "language": "python",
   "name": "python3"
  },
  "language_info": {
   "codemirror_mode": {
    "name": "ipython",
    "version": 3
   },
   "file_extension": ".py",
   "mimetype": "text/x-python",
   "name": "python",
   "nbconvert_exporter": "python",
   "pygments_lexer": "ipython3",
   "version": "3.6.6"
  }
 },
 "nbformat": 4,
 "nbformat_minor": 2
}
