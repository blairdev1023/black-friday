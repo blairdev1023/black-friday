{
 "cells": [
  {
   "cell_type": "code",
   "execution_count": null,
   "metadata": {},
   "outputs": [],
   "source": [
    "import pandas as pd\n",
    "import numpy as np\n",
    "from time import time\n",
    "from pprint import PrettyPrinter\n",
    "\n",
    "from sklearn.preprocessing import StandardScaler\n",
    "from sklearn.model_selection import train_test_split\n",
    "from sklearn.naive_bayes import GaussianNB\n",
    "from sklearn.linear_model import LogisticRegression\n",
    "from sklearn.neighbors import KNeighborsClassifier\n",
    "from sklearn.ensemble import RandomForestClassifier\n",
    "from xgboost.sklearn import XGBClassifier\n",
    "from sklearn import cross_validation\n",
    "from sklearn.model_selection import GridSearchCV\n",
    "\n",
    "import seaborn as sns\n",
    "import matplotlib.pyplot as plt\n",
    "sns.set()\n",
    "%matplotlib inline\n",
    "pp = PrettyPrinter()"
   ]
  },
  {
   "cell_type": "markdown",
   "metadata": {},
   "source": [
    "# Load"
   ]
  },
  {
   "cell_type": "code",
   "execution_count": 2,
   "metadata": {},
   "outputs": [],
   "source": [
    "df_train = pd.read_csv('../data/train_clean_v2.csv', parse_dates=['date'], dtype={'fullVisitorId': 'str'})"
   ]
  },
  {
   "cell_type": "code",
   "execution_count": 3,
   "metadata": {
    "scrolled": true
   },
   "outputs": [],
   "source": [
    "target = df_train['totals.transactionRevenue'].apply(lambda x: 1 if x > 0 else 0).values\n",
    "val_cols = [col for col in df_train.columns[2:] if col != 'totals.transactionRevenue']\n",
    "vals = df_train[val_cols].values\n",
    "scaler = StandardScaler()\n",
    "scaled_vals = scaler.fit_transform(vals)"
   ]
  },
  {
   "cell_type": "markdown",
   "metadata": {},
   "source": [
    "# Funcs"
   ]
  },
  {
   "cell_type": "code",
   "execution_count": 23,
   "metadata": {},
   "outputs": [],
   "source": [
    "def grid_classifier(model, train, target, parameters={}, cv=4, timed=True, verbose=True, plot=False):\n",
    "    '''\n",
    "    For tuning models.\n",
    "    \n",
    "    \n",
    "        Parameters:\n",
    "        -----------\n",
    "    model - sklearn model\n",
    "    train - array of training data\n",
    "    target - array of target data\n",
    "    parameters - dict of parameters the GSearcher will run over\n",
    "    cv - int, k-fold number\n",
    "    timed - boolean, gives printout of timings\n",
    "    verbose - boolean, printout the cv results\n",
    "    plot - boolean, makes a seaborn plot of the cv results, one parameter only\n",
    "    \n",
    "        Returns :\n",
    "        ---------\n",
    "    gsearcher - fitted and searched GridSearchCV object\n",
    "    '''\n",
    "    if timed:\n",
    "        start = time()\n",
    "        passed = time() - start\n",
    "        print(f'Seconds to start: {passed:.2f}')\n",
    "    \n",
    "    gsearcher = GridSearchCV(\n",
    "        estimator=model, \n",
    "        param_grid=parameters,\n",
    "        scoring='roc_auc',\n",
    "        n_jobs=4,\n",
    "        cv=cv)\n",
    "    gsearcher.fit(train, target)\n",
    "    results = gsearcher.cv_results_\n",
    "    \n",
    "    if timed:\n",
    "        passed = time() - start\n",
    "        print(f'Seconds to fit: {passed:.2f}')\n",
    "    if verbose:\n",
    "        print('Grid Scores: \\n')\n",
    "        pp.pprint(results)\n",
    "        print(f'Best Model Parameters: {gsearcher.best_params_}')\n",
    "        print(f'Best Model Score: {gsearcher.best_score_:.4f}')\n",
    "    \n",
    "    if plot:\n",
    "        AUC_means = results['mean_test_score']\n",
    "        x = range(len(AUC_means))\n",
    "        model_name = str(model.__class__).split('.')[-1][:-2]\n",
    "        param = list(results['params'][0].keys())[0]\n",
    "        labels = [str(pair[param]) for pair in results['params']]\n",
    "\n",
    "        plt.figure(figsize=(8,6))\n",
    "        plt.scatter(x=x, y=AUC_means)\n",
    "        plt.title(f'{model_name} over {param}')\n",
    "        plt.xlabel(param)\n",
    "        plt.ylabel('AUC Scores')\n",
    "        plt.xticks(x, labels, rotation=60)\n",
    "    \n",
    "    return gsearcher"
   ]
  },
  {
   "cell_type": "code",
   "execution_count": 31,
   "metadata": {},
   "outputs": [],
   "source": [
    "def model_validate(model, train, target, cv=5, timed=True, verbose=True, feature_importance=False):\n",
    "    '''\n",
    "    For validating a model's score on a single set of parameters.\n",
    "    \n",
    "        Paramters:\n",
    "        ----------\n",
    "    model - sklearn model, parameters set on instantiation\n",
    "    train - array of training data\n",
    "    target - array of target data\n",
    "    cv - int, k-fold number\n",
    "    timed - boolean, gives printout of timings\n",
    "    verbose - boolean, printout the cv_results\n",
    "    feature_importance - boolean, makes a seaborn plot of the feature importance, only works for ensembles\n",
    "    \n",
    "        Returns:\n",
    "        ---------\n",
    "    model - the fitted sklearn model\n",
    "\n",
    "    '''\n",
    "    # Fit and Predict\n",
    "    if timed:\n",
    "        start = time()\n",
    "        passed = time() - start\n",
    "        print(f'Seconds to start: {passed:.2f}')\n",
    "    model.fit(train, target)\n",
    "    if timed:\n",
    "        passed = time() - start\n",
    "        print(f'Seconds to fit: {passed:.2f}')\n",
    "    \n",
    "    # CV\n",
    "    cv_score = cross_validation.cross_val_score(model, train, target, cv=cv, scoring='roc_auc')\n",
    "    if verbose:\n",
    "        print(f'CV Score : Mean - {np.mean(cv_score):.3f} | Std - {np.std(cv_score):.3f} | Min - {np.min(cv_score):.3f} | Max - {np.max(cv_score):.3f}')\n",
    "    if timed:\n",
    "        passed = time() - start\n",
    "        print(f'Seconds to CV: {passed:.2f}')\n",
    "    \n",
    "    # Plots feature importance, for ensemble models only\n",
    "    if feature_importance:\n",
    "        feat_imp = pd.Series(model.feature_importances_).sort_values(ascending=False)\n",
    "        feat_imp.plot(kind='bar', title='Feature Importances')\n",
    "        plt.ylabel('Feature Importance Score')\n",
    "    \n",
    "    return model"
   ]
  },
  {
   "cell_type": "markdown",
   "metadata": {},
   "source": [
    "---\n",
    "# Modeling"
   ]
  },
  {
   "cell_type": "markdown",
   "metadata": {},
   "source": [
    "---\n",
    "## Naive Bayes"
   ]
  },
  {
   "cell_type": "code",
   "execution_count": 5,
   "metadata": {},
   "outputs": [
    {
     "name": "stdout",
     "output_type": "stream",
     "text": [
      "Seconds to start: 0.00\n",
      "Seconds to fit: 3.65\n",
      "Grid Scores: \n",
      "\n",
      "{'mean_fit_time': array([1.07766914]),\n",
      " 'mean_score_time': array([0.28265524]),\n",
      " 'mean_test_score': array([0.95811438]),\n",
      " 'mean_train_score': array([0.95815123]),\n",
      " 'params': [{}],\n",
      " 'rank_test_score': array([1], dtype=int32),\n",
      " 'split0_test_score': array([0.95865279]),\n",
      " 'split0_train_score': array([0.95789989]),\n",
      " 'split1_test_score': array([0.95655758]),\n",
      " 'split1_train_score': array([0.95789333]),\n",
      " 'split2_test_score': array([0.95974835]),\n",
      " 'split2_train_score': array([0.95860401]),\n",
      " 'split3_test_score': array([0.95749879]),\n",
      " 'split3_train_score': array([0.95820768]),\n",
      " 'std_fit_time': array([0.13831474]),\n",
      " 'std_score_time': array([0.00886132]),\n",
      " 'std_test_score': array([0.00120024]),\n",
      " 'std_train_score': array([0.00029064])}\n",
      "Best Model Parameters: {}\n",
      "Best Model Score: 0.9581\n"
     ]
    }
   ],
   "source": [
    "gaussian_gSearch = grid_classifier(GaussianNB(), scaled_vals, target)"
   ]
  },
  {
   "cell_type": "markdown",
   "metadata": {},
   "source": [
    "---\n",
    "## Logistic Regression"
   ]
  },
  {
   "cell_type": "code",
   "execution_count": 15,
   "metadata": {},
   "outputs": [
    {
     "data": {
      "text/plain": [
       "array([1.e-06, 1.e-05, 1.e-04, 1.e-03, 1.e-02, 1.e-01, 1.e+00, 1.e+01,\n",
       "       1.e+02, 1.e+03])"
      ]
     },
     "execution_count": 15,
     "metadata": {},
     "output_type": "execute_result"
    }
   ],
   "source": [
    "np.logspace(-6, 3, 10)"
   ]
  },
  {
   "cell_type": "code",
   "execution_count": 16,
   "metadata": {},
   "outputs": [
    {
     "name": "stdout",
     "output_type": "stream",
     "text": [
      "Seconds to start: 0.00\n",
      "Seconds to fit: 75.17\n",
      "Grid Scores: \n",
      "\n",
      "{'mean_fit_time': array([ 3.13209921,  3.4822228 ,  3.89718193,  4.60008883,  5.76942825,\n",
      "        7.14954364,  8.62375522,  9.78251827, 10.88093817, 10.19381177]),\n",
      " 'mean_score_time': array([0.09875947, 0.09147102, 0.08179951, 0.10246295, 0.09550333,\n",
      "       0.08981913, 0.0955348 , 0.09674627, 0.12257266, 0.07908851]),\n",
      " 'mean_test_score': array([0.9793816 , 0.97985762, 0.97964052, 0.97759402, 0.97480417,\n",
      "       0.97331314, 0.97297622, 0.97292397, 0.97291829, 0.97291767]),\n",
      " 'mean_train_score': array([0.97930112, 0.97984342, 0.97965541, 0.97765941, 0.97489092,\n",
      "       0.9734085 , 0.97307057, 0.97301968, 0.97301529, 0.97301461]),\n",
      " 'param_C': masked_array(data=[1e-06, 1e-05, 0.0001, 0.001, 0.01, 0.1, 1.0, 10.0,\n",
      "                   100.0, 1000.0],\n",
      "             mask=[False, False, False, False, False, False, False, False,\n",
      "                   False, False],\n",
      "       fill_value='?',\n",
      "            dtype=object),\n",
      " 'params': [{'C': 1e-06},\n",
      "            {'C': 1e-05},\n",
      "            {'C': 0.0001},\n",
      "            {'C': 0.001},\n",
      "            {'C': 0.01},\n",
      "            {'C': 0.1},\n",
      "            {'C': 1.0},\n",
      "            {'C': 10.0},\n",
      "            {'C': 100.0},\n",
      "            {'C': 1000.0}],\n",
      " 'rank_test_score': array([ 3,  1,  2,  4,  5,  6,  7,  8,  9, 10], dtype=int32),\n",
      " 'split0_test_score': array([0.97875505, 0.9798028 , 0.9797197 , 0.97808209, 0.97552085,\n",
      "       0.97432542, 0.9740338 , 0.97399855, 0.97399547, 0.97399471]),\n",
      " 'split0_train_score': array([0.97853081, 0.97957366, 0.97951886, 0.97776051, 0.97497957,\n",
      "       0.97361728, 0.97329569, 0.97325689, 0.97325041, 0.97324876]),\n",
      " 'split1_test_score': array([0.98002182, 0.98023403, 0.97972251, 0.97700599, 0.97373398,\n",
      "       0.97198952, 0.97168793, 0.9716401 , 0.97163844, 0.97163828]),\n",
      " 'split1_train_score': array([0.97973581, 0.97991184, 0.97952914, 0.977148  , 0.9743802 ,\n",
      "       0.972684  , 0.97231968, 0.97226738, 0.97226375, 0.97226362]),\n",
      " 'split2_test_score': array([0.97908851, 0.97941007, 0.97920357, 0.97741935, 0.9751443 ,\n",
      "       0.97411465, 0.97383455, 0.97381092, 0.97380558, 0.97380471]),\n",
      " 'split2_train_score': array([0.97994913, 0.98026021, 0.98005601, 0.97806203, 0.97540614,\n",
      "       0.97402562, 0.97366674, 0.97362487, 0.97362021, 0.97361955]),\n",
      " 'split3_test_score': array([0.97966104, 0.97998358, 0.9799163 , 0.97786864, 0.97481753,\n",
      "       0.97282297, 0.9723486 , 0.97224631, 0.97223368, 0.97223298]),\n",
      " 'split3_train_score': array([0.97898874, 0.97962794, 0.97951763, 0.97766711, 0.97479777,\n",
      "       0.97330708, 0.97300019, 0.97292958, 0.97292679, 0.97292649]),\n",
      " 'std_fit_time': array([0.18763218, 0.05936181, 0.15356737, 0.14484072, 0.11884001,\n",
      "       0.42479036, 0.17591112, 0.26611599, 0.40445652, 0.28817952]),\n",
      " 'std_score_time': array([0.01003801, 0.01161677, 0.0061596 , 0.02993419, 0.01748974,\n",
      "       0.00954445, 0.01718388, 0.00776295, 0.03093923, 0.0107961 ]),\n",
      " 'std_test_score': array([0.00049154, 0.00030036, 0.00026456, 0.00041531, 0.00066611,\n",
      "       0.00095648, 0.00098853, 0.0010061 , 0.00100677, 0.00100654]),\n",
      " 'std_train_score': array([0.00057005, 0.00027276, 0.00023133, 0.00032936, 0.00036838,\n",
      "       0.0004898 , 0.00049368, 0.00049915, 0.00049846, 0.00049813])}\n",
      "Best Model Parameters: {'C': 1e-05}\n",
      "Best Model Score: 0.9799\n"
     ]
    },
    {
     "data": {
      "image/png": "[encoded data removed]",
      "text/plain": [
       "<Figure size 576x432 with 1 Axes>"
      ]
     },
     "metadata": {},
     "output_type": "display_data"
    }
   ],
   "source": [
    "parameters = {\n",
    "    'C': np.logspace(-6, 3, 10)\n",
    "}\n",
    "logReg_gSearch = grid_classifier(LogisticRegression(), scaled_vals, target, parameters=parameters, plot=True)"
   ]
  },
  {
   "cell_type": "code",
   "execution_count": 37,
   "metadata": {},
   "outputs": [
    {
     "name": "stdout",
     "output_type": "stream",
     "text": [
      "Seconds to start: 0.00\n",
      "Seconds to fit: 1.30\n",
      "CV Score : Mean - 0.980 | Std - 0.001 | Min - 0.979 | Max - 0.981\n",
      "Seconds to CV: 7.40\n"
     ]
    }
   ],
   "source": [
    "model = LogisticRegression(C=10**-5)\n",
    "model = model_validate(model, scaled_vals, target)"
   ]
  },
  {
   "cell_type": "markdown",
   "metadata": {},
   "source": [
    "---\n",
    "## KNN"
   ]
  },
  {
   "cell_type": "code",
   "execution_count": 30,
   "metadata": {
    "scrolled": false
   },
   "outputs": [
    {
     "name": "stdout",
     "output_type": "stream",
     "text": [
      "Seconds to start: 0.00\n",
      "Seconds to fit: 177.16\n",
      "Grid Scores: \n",
      "\n",
      "{'mean_fit_time': array([0.56976199, 0.57061303, 0.68622267, 0.57605946, 0.44622552,\n",
      "       0.47847652, 0.43868846, 0.61318356, 0.43313998, 0.44036591,\n",
      "       0.41111094, 0.40646881, 0.40628898, 0.45924568, 0.39099848,\n",
      "       0.731188  , 0.52033252]),\n",
      " 'mean_score_time': array([1.55520505, 1.32392049, 1.66880435, 2.04419494, 1.76066041,\n",
      "       2.14638376, 1.97914463, 2.53953946, 2.09142631, 2.26546246,\n",
      "       2.50129104, 2.64290595, 3.07975227, 2.74733102, 3.13126069,\n",
      "       3.31968182, 3.13595247]),\n",
      " 'mean_test_score': array([0.96807265, 0.96803835, 0.97181257, 0.97354657, 0.97361843,\n",
      "       0.97519933, 0.97470897, 0.97443746, 0.9752422 , 0.9763752 ,\n",
      "       0.97590526, 0.97707582, 0.97665243, 0.97632539, 0.97643848,\n",
      "       0.97597589, 0.97592608]),\n",
      " 'mean_train_score': array([0.98338052, 0.98298158, 0.98284108, 0.98259997, 0.98280025,\n",
      "       0.98267119, 0.98236066, 0.98200749, 0.98158328, 0.98112432,\n",
      "       0.98052822, 0.97990517, 0.97933112, 0.97876473, 0.97835839,\n",
      "       0.97764389, 0.97744587]),\n",
      " 'param_n_neighbors': masked_array(data=[100, 125, 150, 175, 200, 225, 250, 275, 300, 325, 350,\n",
      "                   375, 400, 425, 450, 475, 500],\n",
      "             mask=[False, False, False, False, False, False, False, False,\n",
      "                   False, False, False, False, False, False, False, False,\n",
      "                   False],\n",
      "       fill_value='?',\n",
      "            dtype=object),\n",
      " 'params': [{'n_neighbors': 100},\n",
      "            {'n_neighbors': 125},\n",
      "            {'n_neighbors': 150},\n",
      "            {'n_neighbors': 175},\n",
      "            {'n_neighbors': 200},\n",
      "            {'n_neighbors': 225},\n",
      "            {'n_neighbors': 250},\n",
      "            {'n_neighbors': 275},\n",
      "            {'n_neighbors': 300},\n",
      "            {'n_neighbors': 325},\n",
      "            {'n_neighbors': 350},\n",
      "            {'n_neighbors': 375},\n",
      "            {'n_neighbors': 400},\n",
      "            {'n_neighbors': 425},\n",
      "            {'n_neighbors': 450},\n",
      "            {'n_neighbors': 475},\n",
      "            {'n_neighbors': 500}],\n",
      " 'rank_test_score': array([16, 17, 15, 14, 13, 10, 11, 12,  9,  4,  8,  1,  2,  5,  3,  6,  7],\n",
      "      dtype=int32),\n",
      " 'split0_test_score': array([0.95932302, 0.95981624, 0.96013634, 0.96038294, 0.96003508,\n",
      "       0.95981787, 0.96018206, 0.95960883, 0.95963986, 0.96600426,\n",
      "       0.96522035, 0.97151942, 0.9702325 , 0.9693261 , 0.96924607,\n",
      "       0.96924607, 0.96881982]),\n",
      " 'split0_train_score': array([0.98601802, 0.98582386, 0.98557489, 0.98553824, 0.9854515 ,\n",
      "       0.985333  , 0.98514592, 0.98519183, 0.98503232, 0.98373288,\n",
      "       0.98214309, 0.98168926, 0.98146896, 0.98072588, 0.98059214,\n",
      "       0.98071517, 0.98087086]),\n",
      " 'split1_test_score': array([0.98003632, 0.97994323, 0.97936509, 0.98676002, 0.98815473,\n",
      "       0.98861201, 0.98824782, 0.98805674, 0.98825599, 0.98761252,\n",
      "       0.98732019, 0.98663263, 0.98649871, 0.98555475, 0.98450137,\n",
      "       0.98343002, 0.98362926]),\n",
      " 'split1_train_score': array([0.98113924, 0.98067234, 0.98047237, 0.98016117, 0.9802871 ,\n",
      "       0.97998061, 0.9798006 , 0.97944802, 0.97939068, 0.97885737,\n",
      "       0.97842875, 0.97715017, 0.97653212, 0.97537167, 0.97463711,\n",
      "       0.97313516, 0.97285988]),\n",
      " 'split2_test_score': array([0.96631293, 0.96609082, 0.96631782, 0.96618717, 0.96579522,\n",
      "       0.97209919, 0.97082533, 0.96977685, 0.9659373 , 0.96523014,\n",
      "       0.96476796, 0.96446419, 0.96401018, 0.96463404, 0.96611695,\n",
      "       0.96659383, 0.96829884]),\n",
      " 'split2_train_score': array([0.98556292, 0.98514011, 0.98507115, 0.98482546, 0.98540432,\n",
      "       0.9853027 , 0.98472729, 0.98382197, 0.9827802 , 0.98285605,\n",
      "       0.98286676, 0.9827107 , 0.98235703, 0.98207214, 0.98154971,\n",
      "       0.98090752, 0.98083566]),\n",
      " 'split3_test_score': array([0.96661833, 0.96630313, 0.98143104, 0.98085616, 0.98048871,\n",
      "       0.98026823, 0.97958067, 0.98030742, 0.98713564, 0.98665386,\n",
      "       0.98631253, 0.98568704, 0.98586832, 0.98578666, 0.98588955,\n",
      "       0.98463365, 0.9829564 ]),\n",
      " 'split3_train_score': array([0.98080191, 0.98029   , 0.98024591, 0.979875  , 0.9800581 ,\n",
      "       0.98006844, 0.97976885, 0.97956815, 0.97912992, 0.97905098,\n",
      "       0.97867427, 0.97807055, 0.97696635, 0.97688923, 0.9766546 ,\n",
      "       0.9758177 , 0.97521706]),\n",
      " 'std_fit_time': array([0.04176773, 0.0453545 , 0.07222313, 0.0952947 , 0.04950219,\n",
      "       0.06708702, 0.00866763, 0.12513109, 0.04608059, 0.04931809,\n",
      "       0.03501315, 0.01200485, 0.01485415, 0.03522803, 0.02376942,\n",
      "       0.08853731, 0.03300764]),\n",
      " 'std_score_time': array([0.02930592, 0.05972477, 0.13767444, 0.21888549, 0.07257573,\n",
      "       0.07317952, 0.05085965, 0.08998484, 0.06853521, 0.02496074,\n",
      "       0.05995676, 0.05324976, 0.08748421, 0.06769634, 0.01913477,\n",
      "       0.03009517, 0.1091205 ]),\n",
      " 'std_test_score': array([0.00749828, 0.00735074, 0.00888935, 0.01067084, 0.01122736,\n",
      "       0.01062772, 0.0104061 , 0.01074187, 0.01265728, 0.01076681,\n",
      "       0.01091809, 0.00942619, 0.00978422, 0.00949176, 0.00884021,\n",
      "       0.00812149, 0.00737289]),\n",
      " 'std_train_score': array([0.00241825, 0.0025157 , 0.00248961, 0.00259612, 0.00262895,\n",
      "       0.00264687, 0.00258021, 0.00254625, 0.00245739, 0.00219324,\n",
      "       0.00199509, 0.00234573, 0.00260543, 0.00273017, 0.00282511,\n",
      "       0.0033071 , 0.00350785])}\n",
      "Best Model Parameters: {'n_neighbors': 375}\n",
      "Best Model Score: 0.9771\n"
     ]
    },
    {
     "data": {
      "image/png": "[encoded data removed]",
      "text/plain": [
       "<Figure size 576x432 with 1 Axes>"
      ]
     },
     "metadata": {},
     "output_type": "display_data"
    }
   ],
   "source": [
    "parameters = {\n",
    "    'n_neighbors': np.arange(100, 501, 25)\n",
    "}\n",
    "knn_gSearch = grid_classifier(KNeighborsClassifier(), scaled_vals[:20000], target[:20000], parameters=parameters, plot=True)"
   ]
  },
  {
   "cell_type": "code",
   "execution_count": 41,
   "metadata": {},
   "outputs": [
    {
     "name": "stdout",
     "output_type": "stream",
     "text": [
      "Seconds to start: 0.00\n",
      "Seconds to fit: 3.14\n",
      "CV Score : Mean - 0.980 | Std - 0.005 | Min - 0.971 | Max - 0.989\n",
      "Seconds to CV: 27.70\n"
     ]
    }
   ],
   "source": [
    "model = KNeighborsClassifier(n_neighbors=375)\n",
    "model = model_validate(model, scaled_vals[:50000], target[:50000])"
   ]
  },
  {
   "cell_type": "code",
   "execution_count": 40,
   "metadata": {},
   "outputs": [
    {
     "name": "stdout",
     "output_type": "stream",
     "text": [
      "Seconds to start: 0.00\n",
      "Seconds to fit: 28.95\n",
      "CV Score : Mean - 0.981 | Std - 0.001 | Min - 0.980 | Max - 0.983\n",
      "Seconds to CV: 274.41\n"
     ]
    }
   ],
   "source": [
    "model = KNeighborsClassifier(n_neighbors=375)\n",
    "model = model_validate(model, scaled_vals[:200000], target[:200000])"
   ]
  },
  {
   "cell_type": "markdown",
   "metadata": {},
   "source": [
    "Could train on whole dataset and go for an AUC of 0.982 but for now will wait until later (should take 45-60 mins to train locally)"
   ]
  },
  {
   "cell_type": "code",
   "execution_count": null,
   "metadata": {},
   "outputs": [],
   "source": []
  }
 ],
 "metadata": {
  "kernelspec": {
   "display_name": "Python 3",
   "language": "python",
   "name": "python3"
  },
  "language_info": {
   "codemirror_mode": {
    "name": "ipython",
    "version": 3
   },
   "file_extension": ".py",
   "mimetype": "text/x-python",
   "name": "python",
   "nbconvert_exporter": "python",
   "pygments_lexer": "ipython3",
   "version": "3.6.6"
  }
 },
 "nbformat": 4,
 "nbformat_minor": 2
}
