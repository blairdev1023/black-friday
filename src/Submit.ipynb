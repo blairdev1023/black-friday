{
 "cells": [
  {
   "cell_type": "code",
   "execution_count": 23,
   "metadata": {},
   "outputs": [],
   "source": [
    "import pandas as pd\n",
    "import numpy as np\n",
    "import pickle\n",
    "\n",
    "from sklearn.preprocessing import StandardScaler\n",
    "\n",
    "import seaborn as sns\n",
    "import matplotlib.pyplot as plt\n",
    "sns.set()\n",
    "%matplotlib inline"
   ]
  },
  {
   "cell_type": "markdown",
   "metadata": {},
   "source": [
    "# Load"
   ]
  },
  {
   "cell_type": "code",
   "execution_count": 24,
   "metadata": {},
   "outputs": [],
   "source": [
    "df_train = pd.read_csv('../data/train_standard.csv', parse_dates=['date'], dtype={'fullVisitorId': 'str'})\n",
    "df_test = pd.read_csv('../data/test_clean.csv', parse_dates=['date'], dtype={'fullVisitorId': 'str'})\n",
    "with open('../models/classifier_1.pkl', 'rb') as pkl:\n",
    "    classifier = pickle.load(pkl)\n",
    "with open('../models/regressor_1.pkl', 'rb') as pkl:\n",
    "    regressor = pickle.load(pkl)\n",
    "with open('../models/scale_class.pkl', 'rb') as pkl:\n",
    "    scaler = pickle.load(pkl)"
   ]
  },
  {
   "cell_type": "code",
   "execution_count": 29,
   "metadata": {},
   "outputs": [
    {
     "name": "stderr",
     "output_type": "stream",
     "text": [
      "/Users/blairthurman/anaconda3/lib/python3.6/site-packages/sklearn/preprocessing/label.py:151: DeprecationWarning: The truth value of an empty array is ambiguous. Returning False, but in future this will result in an error. Use `array.size > 0` to check that an array is not empty.\n",
      "  if diff:\n",
      "/Users/blairthurman/anaconda3/lib/python3.6/site-packages/ipykernel_launcher.py:21: FutureWarning: set_value is deprecated and will be removed in a future release. Please use .at[] or .iat[] accessors instead\n"
     ]
    }
   ],
   "source": [
    "# Separate\n",
    "train_cols = [col for col in df_train.columns[2:] if col != 'totals.transactionRevenue']\n",
    "test_cols = [col for col in df_test.columns[2:] if col != 'totals.transactionRevenue']\n",
    "train = df_train[train_cols]\n",
    "test = df_test[test_cols]\n",
    "\n",
    "# Standardize\n",
    "test = pd.DataFrame(data=scaler.transform(test), columns=test_cols)\n",
    "\n",
    "# Predict Class\n",
    "test['classifier_predict_probas'] = classifier.predict(test.values)\n",
    "\n",
    "# Standardize (again)\n",
    "# This has not been done yet, but need to do on the next run\n",
    "\n",
    "# Predict Spending\n",
    "reg_idxs = test[test['classifier_predict_probas'] > 0.01].index\n",
    "reg_preds = regressor.predict(test.iloc[reg_idxs])\n",
    "y_pred = pd.Series(np.zeros(len(test)))\n",
    "for idx, pred in zip(reg_idxs, reg_preds):\n",
    "    y_pred.set_value(idx, pred)\n",
    "    \n",
    "# Submission DF\n",
    "ids = df_test['fullVisitorId']\n",
    "submission = pd.DataFrame(data={'fullVisitorId': ids, 'PredictedLogRevenue': y_pred})"
   ]
  },
  {
   "cell_type": "code",
   "execution_count": 33,
   "metadata": {},
   "outputs": [],
   "source": [
    "# submission.to_csv('../data/submission_1.csv', index=False)"
   ]
  },
  {
   "cell_type": "code",
   "execution_count": 36,
   "metadata": {},
   "outputs": [
    {
     "data": {
      "text/plain": [
       "(804684, 14)"
      ]
     },
     "execution_count": 36,
     "metadata": {},
     "output_type": "execute_result"
    }
   ],
   "source": [
    "df_test.shape"
   ]
  },
  {
   "cell_type": "code",
   "execution_count": null,
   "metadata": {},
   "outputs": [],
   "source": []
  }
 ],
 "metadata": {
  "kernelspec": {
   "display_name": "Python 3",
   "language": "python",
   "name": "python3"
  },
  "language_info": {
   "codemirror_mode": {
    "name": "ipython",
    "version": 3
   },
   "file_extension": ".py",
   "mimetype": "text/x-python",
   "name": "python",
   "nbconvert_exporter": "python",
   "pygments_lexer": "ipython3",
   "version": "3.6.6"
  }
 },
 "nbformat": 4,
 "nbformat_minor": 2
}
